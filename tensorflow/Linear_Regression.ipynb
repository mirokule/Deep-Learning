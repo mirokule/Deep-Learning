{
 "cells": [
  {
   "cell_type": "code",
   "execution_count": 1,
   "metadata": {},
   "outputs": [],
   "source": [
    "import tensorflow as tf\n",
    "import numpy as np"
   ]
  },
  {
   "cell_type": "code",
   "execution_count": 9,
   "metadata": {},
   "outputs": [],
   "source": [
    "learning_rate = 0.01\n",
    "training_steps = 1000\n",
    "display_step = 50"
   ]
  },
  {
   "cell_type": "code",
   "execution_count": 3,
   "metadata": {},
   "outputs": [],
   "source": [
    "X = np.array([3.3,4.4,5.5,6.71,6.93,4.168,9.779,6.182,7.59,2.167,7.042,10.791,5.313,7.997,5.654,9.27,3.1])\n",
    "Y = np.array([1.7,2.76,2.09,3.19,1.694,1.573,3.366,2.596,2.53,1.221,2.827,3.465,1.65,2.904,2.42,2.94,1.3])\n",
    "n_samples = X.shape[0]"
   ]
  },
  {
   "cell_type": "code",
   "execution_count": 4,
   "metadata": {},
   "outputs": [],
   "source": [
    "W = tf.Variable(np.random.randn(), name=\"weight\")\n",
    "b = tf.Variable(np.random.randn(), name=\"bias\")"
   ]
  },
  {
   "cell_type": "code",
   "execution_count": 5,
   "metadata": {},
   "outputs": [],
   "source": [
    "def linear_regression(x):\n",
    "    return W * x + b\n",
    "\n",
    "def mean_square(y_true, y_pred):\n",
    "    return tf.reduce_sum(tf.pow(y_pred - y_true, 2)) / (2 * n_samples)"
   ]
  },
  {
   "cell_type": "code",
   "execution_count": 6,
   "metadata": {},
   "outputs": [],
   "source": [
    "optimizer = tf.optimizers.SGD(learning_rate)"
   ]
  },
  {
   "cell_type": "code",
   "execution_count": 13,
   "metadata": {},
   "outputs": [],
   "source": [
    "def run_optimization(): # 1 step\n",
    "    with tf.GradientTape() as g:\n",
    "        pred = linear_regression(X)\n",
    "        loss = mean_square(pred, Y)\n",
    "        #loss = tf.losses.mse(pred, Y)\n",
    "        \n",
    "    gradients = g.gradient(loss, [W,b]) # compute gradients\n",
    "    optimizer.apply_gradients(zip(gradients, [W,b])) # update W and b with gradients"
   ]
  },
  {
   "cell_type": "code",
   "execution_count": 14,
   "metadata": {},
   "outputs": [
    {
     "name": "stdout",
     "output_type": "stream",
     "text": [
      "step: 50, W: 0.252099, b: 0.795510\n",
      "step: 100, W: 0.252046, b: 0.795887\n",
      "step: 150, W: 0.251999, b: 0.796220\n",
      "step: 200, W: 0.251957, b: 0.796515\n",
      "step: 250, W: 0.251920, b: 0.796777\n",
      "step: 300, W: 0.251888, b: 0.797009\n",
      "step: 350, W: 0.251859, b: 0.797214\n",
      "step: 400, W: 0.251833, b: 0.797395\n",
      "step: 450, W: 0.251811, b: 0.797556\n",
      "step: 500, W: 0.251790, b: 0.797699\n",
      "step: 550, W: 0.251773, b: 0.797825\n",
      "step: 600, W: 0.251757, b: 0.797936\n",
      "step: 650, W: 0.251743, b: 0.798035\n",
      "step: 700, W: 0.251731, b: 0.798123\n",
      "step: 750, W: 0.251720, b: 0.798201\n",
      "step: 800, W: 0.251710, b: 0.798269\n",
      "step: 850, W: 0.251701, b: 0.798330\n",
      "step: 900, W: 0.251694, b: 0.798384\n",
      "step: 950, W: 0.251687, b: 0.798432\n",
      "step: 1000, W: 0.251681, b: 0.798474\n"
     ]
    }
   ],
   "source": [
    "for step in range(1, training_steps+1):\n",
    "    run_optimization()\n",
    "    \n",
    "    if step % display_step == 0:\n",
    "        print(\"step: %i, W: %f, b: %f\" % (step, W.numpy(), b.numpy()))"
   ]
  },
  {
   "cell_type": "code",
   "execution_count": null,
   "metadata": {},
   "outputs": [],
   "source": []
  }
 ],
 "metadata": {
  "kernelspec": {
   "display_name": "openai_py36",
   "language": "python",
   "name": "openai_py36"
  },
  "language_info": {
   "codemirror_mode": {
    "name": "ipython",
    "version": 3
   },
   "file_extension": ".py",
   "mimetype": "text/x-python",
   "name": "python",
   "nbconvert_exporter": "python",
   "pygments_lexer": "ipython3",
   "version": "3.6.2"
  }
 },
 "nbformat": 4,
 "nbformat_minor": 2
}
